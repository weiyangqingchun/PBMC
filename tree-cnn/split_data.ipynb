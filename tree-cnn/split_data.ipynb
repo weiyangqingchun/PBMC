{
 "cells": [
  {
   "cell_type": "code",
   "execution_count": 1,
   "metadata": {},
   "outputs": [],
   "source": [
    "import pandas as pd\n",
    "import numpy as np\n",
    "import os\n",
    "from sklearn.model_selection import train_test_split\n",
    "\n",
    "#原编码对应关系：\n",
    "#{'B_cells':0, 'CD4_T_helper':1, 'cd14_monocytes':2, 'cd56_NK':3, 'memory_T':4, 'naive_T':5, 'naive_cytotoxic_T':6, \n",
    "#'regulatory_T':7}"
   ]
  },
  {
   "cell_type": "code",
   "execution_count": 4,
   "metadata": {},
   "outputs": [],
   "source": [
    "def split_and_save_data_single_layer(layer, norm_features, encoded_labels, relation_dict):\n",
    "    os.chdir('/home/tdeng/PBMC/tree-cnn/train/')\n",
    "    \"\"\"在单独一层拆分数据并保存\"\"\"\n",
    "    feature_list = []\n",
    "    label_list = []\n",
    "    for new_code, origin_code in relation_dict.items():\n",
    "        features = norm_features[np.isin(encoded_labels, origin_code)]\n",
    "        feature_list.append(features)\n",
    "        labels = np.ones(shape=(features.shape[0], 1)) * new_code\n",
    "        label_list.append(labels)\n",
    "    np.save('layer' + str(layer) + '/features.npy', np.concatenate(feature_list))\n",
    "    np.save('layer' + str(layer) + '/labels.npy', np.concatenate(label_list))\n",
    "    print('Layer{}:Data has been saved！'.format(layer))\n",
    "    return None\n",
    "\n",
    "def split_and_save_data_all_layers():\n",
    "    os.chdir('/home/tdeng/PBMC/')\n",
    "    norm_features = np.load('norm_features.npy')\n",
    "    encoded_labels = np.load('encoded_labels.npy')\n",
    "    print('Data has been read！')\n",
    "    X_train, X_test, y_train, y_test = train_test_split(norm_features, encoded_labels, test_size=0.3, random_state=2020, shuffle=True)\n",
    "    np.save('tree-cnn/test/X_test.npy', X_test)\n",
    "    np.save('tree-cnn/test/y_test.npy', y_test)\n",
    "    \n",
    "    #layer1:Hematopoietic Stem -> Lymphoid Progenitor(others, new code:0),\n",
    "    #                             Myeloid Progenitor(cd14_monocytes, new code:1)\n",
    "    layer1_relation = {0:[0,1,3,4,5,6,7], 1:[2]}\n",
    "    \n",
    "    #layer2:Lymphoid Progenitor -> B_cells(new code:0), \n",
    "    #                              T cell progenitor(naive_cytotoxic_T, naive_T, regulatory_T, CD4_T_helper, memory_T, new code:1),\n",
    "    #                              cd56_NK(new code:2)\n",
    "    layer2_relation = {0:[0], 1:[1,4,5,6,7], 2:[3]}\n",
    "    \n",
    "    #layer3:T cell progenitor -> naive_cytotoxic_T(new code:0),\n",
    "    #                            naive_T(naive_T, regulatory_T, CD4_T_helper, memory_T, new code:1)\n",
    "    layer3_relation = {0:[6], 1:[1,4,5,7]}\n",
    "    \n",
    "    #layer4: naive_T -> regulatory_T(new code:0),\n",
    "    #                   CD4_T_helper(new code:1),\n",
    "    #                   memory_T(new code:2)\n",
    "    layer4_relation = {0:[7], 1:[1], 2:[4]}\n",
    "    \n",
    "    for layer, rela_dict in zip(range(1, 5), [layer1_relation, layer2_relation, layer3_relation, layer4_relation]):\n",
    "        split_and_save_data_single_layer(layer, X_train, y_train, rela_dict)\n",
    "    return None"
   ]
  },
  {
   "cell_type": "code",
   "execution_count": 5,
   "metadata": {},
   "outputs": [
    {
     "name": "stdout",
     "output_type": "stream",
     "text": [
      "Data has been read！\n",
      "Layer1:Data has been saved！\n",
      "Layer2:Data has been saved！\n",
      "Layer3:Data has been saved！\n",
      "Layer4:Data has been saved！\n"
     ]
    }
   ],
   "source": [
    "split_and_save_data_all_layers()"
   ]
  },
  {
   "cell_type": "code",
   "execution_count": null,
   "metadata": {},
   "outputs": [],
   "source": []
  }
 ],
 "metadata": {
  "kernelspec": {
   "display_name": "Python 3",
   "language": "python",
   "name": "python3"
  },
  "language_info": {
   "codemirror_mode": {
    "name": "ipython",
    "version": 3
   },
   "file_extension": ".py",
   "mimetype": "text/x-python",
   "name": "python",
   "nbconvert_exporter": "python",
   "pygments_lexer": "ipython3",
   "version": "3.7.9"
  }
 },
 "nbformat": 4,
 "nbformat_minor": 4
}
